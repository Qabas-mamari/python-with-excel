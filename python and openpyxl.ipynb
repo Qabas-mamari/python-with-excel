{
 "cells": [
  {
   "cell_type": "code",
   "execution_count": 1,
   "id": "f94648fd",
   "metadata": {},
   "outputs": [],
   "source": [
    "# import require libraries \n",
    "from openpyxl.workbook import Workbook\n",
    "from openpyxl import load_workbook\n",
    "from openpyxl.styles import Font, Color, Alignment, PatternFill, GradientFill, Border, Side\n",
    "from openpyxl.styles import NamedStyle"
   ]
  },
  {
   "cell_type": "markdown",
   "id": "9dbd5f86",
   "metadata": {},
   "source": [
    "## Using openpyxl with workbooks"
   ]
  },
  {
   "cell_type": "code",
   "execution_count": 2,
   "id": "ca4dd37f",
   "metadata": {},
   "outputs": [],
   "source": [
    "wb_test = Workbook() #wb workbook\n",
    "ws_test = wb_test.active #ws worksheet"
   ]
  },
  {
   "cell_type": "code",
   "execution_count": 3,
   "id": "3321283a",
   "metadata": {},
   "outputs": [
    {
     "name": "stdout",
     "output_type": "stream",
     "text": [
      "['Another', 'Mysheet', 'newSheet']\n"
     ]
    }
   ],
   "source": [
    "# create worksheet\n",
    "ws1 = wb_test.create_sheet('newSheet')\n",
    "ws2 = wb_test.create_sheet('Another', 0)\n",
    "ws_test.title = 'Mysheet'\n",
    "\n",
    "print(wb_test.sheetnames)"
   ]
  },
  {
   "cell_type": "code",
   "execution_count": 4,
   "id": "6752d6f1",
   "metadata": {},
   "outputs": [],
   "source": [
    "wb = load_workbook('input_files/regions.xlsx')\n",
    "ws = wb.active"
   ]
  },
  {
   "cell_type": "code",
   "execution_count": 5,
   "id": "fc71d679",
   "metadata": {},
   "outputs": [
    {
     "name": "stdout",
     "output_type": "stream",
     "text": [
      "None\n"
     ]
    }
   ],
   "source": [
    "new_sheet = wb.create_sheet('newSheet')\n",
    "cell = new_sheet['A1']\n",
    "print(cell.value)\n",
    "new_sheet['A1']= 0\n",
    "wb.save('output_files/modifed.xlsx')"
   ]
  },
  {
   "cell_type": "markdown",
   "id": "e8feb252",
   "metadata": {},
   "source": [
    "## select cells, rows, columns"
   ]
  },
  {
   "cell_type": "code",
   "execution_count": 6,
   "id": "eaa594f6",
   "metadata": {},
   "outputs": [
    {
     "name": "stdout",
     "output_type": "stream",
     "text": [
      "((<Cell 'Sheet1'.A1>, <Cell 'Sheet1'.B1>, <Cell 'Sheet1'.C1>),)\n"
     ]
    }
   ],
   "source": [
    "# cell\n",
    "cell_range= ws['A1':'C1']\n",
    "print(cell_range)"
   ]
  },
  {
   "cell_type": "code",
   "execution_count": 7,
   "id": "486ae7b0",
   "metadata": {},
   "outputs": [
    {
     "name": "stdout",
     "output_type": "stream",
     "text": [
      "((<Cell 'Sheet1'.A1>, <Cell 'Sheet1'.A2>, <Cell 'Sheet1'.A3>, <Cell 'Sheet1'.A4>, <Cell 'Sheet1'.A5>, <Cell 'Sheet1'.A6>, <Cell 'Sheet1'.A7>), (<Cell 'Sheet1'.B1>, <Cell 'Sheet1'.B2>, <Cell 'Sheet1'.B3>, <Cell 'Sheet1'.B4>, <Cell 'Sheet1'.B5>, <Cell 'Sheet1'.B6>, <Cell 'Sheet1'.B7>), (<Cell 'Sheet1'.C1>, <Cell 'Sheet1'.C2>, <Cell 'Sheet1'.C3>, <Cell 'Sheet1'.C4>, <Cell 'Sheet1'.C5>, <Cell 'Sheet1'.C6>, <Cell 'Sheet1'.C7>))\n"
     ]
    }
   ],
   "source": [
    "#columns\n",
    "col_range= ws['A':'C']\n",
    "print(col_range)"
   ]
  },
  {
   "cell_type": "code",
   "execution_count": 8,
   "id": "45b8f2c7",
   "metadata": {},
   "outputs": [
    {
     "name": "stdout",
     "output_type": "stream",
     "text": [
      "((<Cell 'Sheet1'.A1>, <Cell 'Sheet1'.B1>, <Cell 'Sheet1'.C1>, <Cell 'Sheet1'.D1>), (<Cell 'Sheet1'.A2>, <Cell 'Sheet1'.B2>, <Cell 'Sheet1'.C2>, <Cell 'Sheet1'.D2>), (<Cell 'Sheet1'.A3>, <Cell 'Sheet1'.B3>, <Cell 'Sheet1'.C3>, <Cell 'Sheet1'.D3>), (<Cell 'Sheet1'.A4>, <Cell 'Sheet1'.B4>, <Cell 'Sheet1'.C4>, <Cell 'Sheet1'.D4>), (<Cell 'Sheet1'.A5>, <Cell 'Sheet1'.B5>, <Cell 'Sheet1'.C5>, <Cell 'Sheet1'.D5>))\n"
     ]
    }
   ],
   "source": [
    "#row\n",
    "row_range= ws[1:5]\n",
    "print(row_range)"
   ]
  },
  {
   "cell_type": "code",
   "execution_count": 9,
   "id": "6492f97e",
   "metadata": {},
   "outputs": [
    {
     "name": "stdout",
     "output_type": "stream",
     "text": [
      "<Cell 'Sheet1'.A1>\n",
      "<Cell 'Sheet1'.B1>\n",
      "<Cell 'Sheet1'.C1>\n",
      "<Cell 'Sheet1'.A2>\n",
      "<Cell 'Sheet1'.B2>\n",
      "<Cell 'Sheet1'.C2>\n"
     ]
    }
   ],
   "source": [
    "for row in ws.iter_rows(min_row=1, max_col=3, max_row=2):\n",
    "    for cell in row:\n",
    "        print(cell)"
   ]
  },
  {
   "cell_type": "code",
   "execution_count": 10,
   "id": "a764e195",
   "metadata": {},
   "outputs": [
    {
     "name": "stdout",
     "output_type": "stream",
     "text": [
      "Region\n",
      "Units\n",
      "Sales\n",
      "South\n",
      "54\n",
      "332\n"
     ]
    }
   ],
   "source": [
    "# ptint the values\n",
    "for row in ws.iter_rows(min_row=1, max_col=3, max_row=2, values_only=True):\n",
    "    for cell in row:\n",
    "        print(cell)"
   ]
  },
  {
   "cell_type": "markdown",
   "id": "ffa78e61",
   "metadata": {},
   "source": [
    "## Formating workbooks"
   ]
  },
  {
   "cell_type": "code",
   "execution_count": 11,
   "id": "789ae745",
   "metadata": {},
   "outputs": [],
   "source": [
    "for i in range (1,20):\n",
    "    ws_test.append(range(300))"
   ]
  },
  {
   "cell_type": "code",
   "execution_count": 12,
   "id": "1b81d84b",
   "metadata": {},
   "outputs": [],
   "source": [
    "ws_test.merge_cells(\"A1:B5\")\n",
    "ws_test.unmerge_cells(\"A1:B5\")\n",
    "ws_test.merge_cells(start_row=2, start_column=2, end_row=5, end_column=5)"
   ]
  },
  {
   "cell_type": "code",
   "execution_count": 13,
   "id": "e5ad36d8",
   "metadata": {},
   "outputs": [],
   "source": [
    "cell = ws['B2']\n",
    "cell.font = Font(color='FF000000', size=20, italic=True)\n",
    "cell.value =\"Merged Cell\"\n",
    "cell_alignment = Alignment(horizontal='right', vertical='bottom')\n",
    "cell_fill= GradientFill(stop=(\"000000\", \"FFFFFF\"))"
   ]
  },
  {
   "cell_type": "code",
   "execution_count": 14,
   "id": "bd88a090",
   "metadata": {
    "scrolled": true
   },
   "outputs": [],
   "source": [
    "wb_test.save('output_files/text.xlsx')"
   ]
  },
  {
   "cell_type": "code",
   "execution_count": 15,
   "id": "f0b04c42",
   "metadata": {},
   "outputs": [],
   "source": [
    "highlight = NamedStyle(name=\"highlight\")\n",
    "highlight.font = Font(bold=True, size=20)\n",
    "bd = Side(style='thick', color=\"000000\")\n",
    "highlight.border = Border(left=bd, top=bd, right=bd, bottom=bd)\n",
    "highlight.fill = PatternFill('solid', fgColor='FFFF00')"
   ]
  },
  {
   "cell_type": "code",
   "execution_count": 16,
   "id": "d4effbbe",
   "metadata": {},
   "outputs": [],
   "source": [
    "count = 0 \n",
    "for col in ws.iter_cols(min_col=8, min_row=1, max_col=30, max_row=30):\n",
    "    col[count].style = highlight\n",
    "    count = count +1"
   ]
  },
  {
   "cell_type": "code",
   "execution_count": 17,
   "id": "94c18f49",
   "metadata": {},
   "outputs": [],
   "source": [
    "wb_test.save('output_files/highlight.xlsx')"
   ]
  },
  {
   "cell_type": "markdown",
   "id": "fc59c71d",
   "metadata": {},
   "source": [
    "## Graphs and Charts"
   ]
  },
  {
   "cell_type": "code",
   "execution_count": 18,
   "id": "e5062562",
   "metadata": {},
   "outputs": [],
   "source": [
    "data = [\n",
    "    ['Number', 'Batch 1', 'Batch 2'],\n",
    "    [2, 40, 30],\n",
    "    [3, 40, 25],\n",
    "    [4, 50, 30],\n",
    "    [5, 30, 10],\n",
    "    [6, 25, 5],\n",
    "    [7, 50, 10],\n",
    "]"
   ]
  },
  {
   "cell_type": "code",
   "execution_count": 19,
   "id": "56e9b7f1",
   "metadata": {},
   "outputs": [
    {
     "ename": "AttributeError",
     "evalue": "'Workbook' object has no attribute 'append'",
     "output_type": "error",
     "traceback": [
      "\u001b[1;31m---------------------------------------------------------------------------\u001b[0m",
      "\u001b[1;31mAttributeError\u001b[0m                            Traceback (most recent call last)",
      "\u001b[1;32m~\\AppData\\Local\\Temp/ipykernel_904/4200638824.py\u001b[0m in \u001b[0;36m<module>\u001b[1;34m\u001b[0m\n\u001b[0;32m      1\u001b[0m \u001b[1;32mfor\u001b[0m \u001b[0mrow\u001b[0m \u001b[1;32min\u001b[0m \u001b[0mdata\u001b[0m\u001b[1;33m:\u001b[0m\u001b[1;33m\u001b[0m\u001b[1;33m\u001b[0m\u001b[0m\n\u001b[1;32m----> 2\u001b[1;33m     \u001b[0mwb_test\u001b[0m\u001b[1;33m.\u001b[0m\u001b[0mappend\u001b[0m\u001b[1;33m(\u001b[0m\u001b[0mrow\u001b[0m\u001b[1;33m)\u001b[0m\u001b[1;33m\u001b[0m\u001b[1;33m\u001b[0m\u001b[0m\n\u001b[0m",
      "\u001b[1;31mAttributeError\u001b[0m: 'Workbook' object has no attribute 'append'"
     ]
    }
   ],
   "source": [
    "for row in data: \n",
    "    wb_test.append(row)"
   ]
  },
  {
   "cell_type": "code",
   "execution_count": null,
   "id": "58b0fae1",
   "metadata": {},
   "outputs": [],
   "source": []
  }
 ],
 "metadata": {
  "kernelspec": {
   "display_name": "Python 3 (ipykernel)",
   "language": "python",
   "name": "python3"
  },
  "language_info": {
   "codemirror_mode": {
    "name": "ipython",
    "version": 3
   },
   "file_extension": ".py",
   "mimetype": "text/x-python",
   "name": "python",
   "nbconvert_exporter": "python",
   "pygments_lexer": "ipython3",
   "version": "3.9.7"
  }
 },
 "nbformat": 4,
 "nbformat_minor": 5
}
