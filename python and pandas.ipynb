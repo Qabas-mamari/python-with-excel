{
 "cells": [
  {
   "cell_type": "code",
   "execution_count": 64,
   "id": "2f2aad06",
   "metadata": {},
   "outputs": [],
   "source": [
    "#import the require libraries\n",
    "import pandas as pd \n",
    "import numpy as np"
   ]
  },
  {
   "cell_type": "markdown",
   "id": "b397e4d0",
   "metadata": {},
   "source": [
    "# Loading and saving data with pandas"
   ]
  },
  {
   "cell_type": "code",
   "execution_count": 38,
   "id": "e63b0fe8",
   "metadata": {},
   "outputs": [],
   "source": [
    "# read all input files\n",
    "df_excel = pd.read_excel('input_files/regions.xlsx')\n",
    "df_csv = pd.read_csv('input_files/Names.csv', header=None)\n",
    "df_text = pd.read_csv('input_files/data.txt', delimiter='\\t')"
   ]
  },
  {
   "cell_type": "code",
   "execution_count": 39,
   "id": "bbb8681a",
   "metadata": {},
   "outputs": [
    {
     "name": "stdout",
     "output_type": "stream",
     "text": [
      "  Region  Units  Sales  Export\n",
      "0  South     54    332     100\n",
      "1  North     20    110      50\n",
      "2   East     36    224      85\n",
      "3   West     60    400     110\n",
      "4   West     50    226      65\n",
      "5  North     84    470     150\n"
     ]
    }
   ],
   "source": [
    "print(df_excel)"
   ]
  },
  {
   "cell_type": "code",
   "execution_count": 40,
   "id": "3c1a8bc8",
   "metadata": {
    "scrolled": true
   },
   "outputs": [
    {
     "name": "stdout",
     "output_type": "stream",
     "text": [
      "                     0         1                                 2  \\\n",
      "0                 John       Doe                 120 jefferson st.   \n",
      "1                 Jack  McGinnis                      220 hobo Av.   \n",
      "2        John \"Da Man\"    Repici                 120 Jefferson St.   \n",
      "3              Stephen     Tyler  7452 Terrace \"At the Plaza\" road   \n",
      "4                  NaN  Blankman                               NaN   \n",
      "5  Joan \"Danger\", Anne       Jet               9th, at Terrace plc   \n",
      "\n",
      "             3    4      5       6  \n",
      "0    Riverside   NJ   8074   45000  \n",
      "1        Phila   PA   9119   18000  \n",
      "2    Riverside   NJ   8075  120000  \n",
      "3     SomeTown   SD  91234   90000  \n",
      "4     SomeTown   SD    298   30000  \n",
      "5  Desert City   CO    123   68000  \n"
     ]
    }
   ],
   "source": [
    "print(df_csv)"
   ]
  },
  {
   "cell_type": "code",
   "execution_count": 41,
   "id": "7dbcc88e",
   "metadata": {},
   "outputs": [
    {
     "name": "stdout",
     "output_type": "stream",
     "text": [
      "                ID  EGF_Baseline  EGF_Stimulus\n",
      "0      FBgn0029994         -1.25         -0.27\n",
      "1      FBgn0037191         -1.05          0.78\n",
      "2      FBgn0036810          2.08          1.34\n",
      "3      FBgn0033320          1.15          0.45\n",
      "4      FBgn0051156         -1.77         -0.76\n",
      "...            ...           ...           ...\n",
      "11761  FBgn0026136          0.57          1.23\n",
      "11762  FBgn0037356          1.14         -0.95\n",
      "11763  FBgn0038214         -1.86         -0.67\n",
      "11764  FBgn0042110          1.49          0.43\n",
      "11765  FBgn0034202         -1.32         -0.22\n",
      "\n",
      "[11766 rows x 3 columns]\n"
     ]
    }
   ],
   "source": [
    "print(df_text)"
   ]
  },
  {
   "cell_type": "markdown",
   "id": "a6eca8e6",
   "metadata": {},
   "source": [
    "# Viewing and inspecting data with pandas"
   ]
  },
  {
   "cell_type": "code",
   "execution_count": 42,
   "id": "8617e0ca",
   "metadata": {},
   "outputs": [
    {
     "name": "stdout",
     "output_type": "stream",
     "text": [
      "Index(['First', 'Last', 'Address', 'City', 'State', 'Area Code', 'Income'], dtype='object')\n"
     ]
    }
   ],
   "source": [
    "# create a new excel file with header and index \n",
    "df_csv.columns = ['First', 'Last', 'Address', 'City', 'State', 'Area Code', 'Income']\n",
    "df_csv.to_excel('output_files/modifed.xlsx')\n",
    "print(df_csv.columns)"
   ]
  },
  {
   "cell_type": "code",
   "execution_count": 43,
   "id": "d6474a21",
   "metadata": {},
   "outputs": [
    {
     "name": "stdout",
     "output_type": "stream",
     "text": [
      "0         Doe\n",
      "1    McGinnis\n",
      "2      Repici\n",
      "3       Tyler\n",
      "4    Blankman\n",
      "5         Jet\n",
      "Name: Last, dtype: object\n"
     ]
    }
   ],
   "source": [
    "#print only the last name column\n",
    "print(df_csv['Last'])"
   ]
  },
  {
   "cell_type": "code",
   "execution_count": 44,
   "id": "617a5018",
   "metadata": {},
   "outputs": [
    {
     "name": "stdout",
     "output_type": "stream",
     "text": [
      "0         Doe\n",
      "1    McGinnis\n",
      "2      Repici\n",
      "Name: Last, dtype: object\n"
     ]
    }
   ],
   "source": [
    "# print only the three last name \n",
    "print(df_csv['Last'][0:3])"
   ]
  },
  {
   "cell_type": "code",
   "execution_count": 45,
   "id": "b196263c",
   "metadata": {},
   "outputs": [
    {
     "name": "stdout",
     "output_type": "stream",
     "text": [
      "                 First      Last\n",
      "0                 John       Doe\n",
      "1                 Jack  McGinnis\n",
      "2        John \"Da Man\"    Repici\n",
      "3              Stephen     Tyler\n",
      "4                  NaN  Blankman\n",
      "5  Joan \"Danger\", Anne       Jet\n"
     ]
    }
   ],
   "source": [
    "# print first and last name \n",
    "print(df_csv[['First', 'Last']])"
   ]
  },
  {
   "cell_type": "code",
   "execution_count": 46,
   "id": "f4d59a11",
   "metadata": {},
   "outputs": [
    {
     "name": "stdout",
     "output_type": "stream",
     "text": [
      "Repici\n"
     ]
    }
   ],
   "source": [
    "#using iloc : uisng only intger| print a specific cell\n",
    "print(df_csv.iloc[2,1])"
   ]
  },
  {
   "cell_type": "code",
   "execution_count": 47,
   "id": "426cd62f",
   "metadata": {},
   "outputs": [],
   "source": [
    "# save only few columns in new excel \n",
    "wanted_value = df_csv[['First', 'Last', 'State']]\n",
    "stored = wanted_value.to_excel('output_files/State_location.xlsx', index=None)"
   ]
  },
  {
   "cell_type": "markdown",
   "id": "840f7a00",
   "metadata": {},
   "source": [
    "# Filter and sort data with pandas"
   ]
  },
  {
   "cell_type": "code",
   "execution_count": 48,
   "id": "ee2d0df5",
   "metadata": {},
   "outputs": [
    {
     "name": "stdout",
     "output_type": "stream",
     "text": [
      "           First    Last            Address       City State  Area Code  \\\n",
      "0           John     Doe  120 jefferson st.  Riverside    NJ       8074   \n",
      "2  John \"Da Man\"  Repici  120 Jefferson St.  Riverside    NJ       8075   \n",
      "\n",
      "   Income  \n",
      "0   45000  \n",
      "2  120000  \n"
     ]
    }
   ],
   "source": [
    "# print all where city is Riverside\n",
    "print(df_csv.loc[df_csv['City']=='Riverside'])"
   ]
  },
  {
   "cell_type": "code",
   "execution_count": 49,
   "id": "ba3a5a9e",
   "metadata": {},
   "outputs": [
    {
     "name": "stdout",
     "output_type": "stream",
     "text": [
      "  First Last            Address       City State  Area Code  Income\n",
      "0  John  Doe  120 jefferson st.  Riverside    NJ       8074   45000\n"
     ]
    }
   ],
   "source": [
    "# if we have two conditions \n",
    "print(df_csv.loc[(df_csv['City']=='Riverside') & (df_csv['First']=='John')] )"
   ]
  },
  {
   "cell_type": "markdown",
   "id": "67e77de4",
   "metadata": {},
   "source": [
    "### create a columns"
   ]
  },
  {
   "cell_type": "code",
   "execution_count": 50,
   "id": "fb6ae55a",
   "metadata": {},
   "outputs": [
    {
     "name": "stdout",
     "output_type": "stream",
     "text": [
      "                 First      Last                           Address  \\\n",
      "0                 John       Doe                 120 jefferson st.   \n",
      "1                 Jack  McGinnis                      220 hobo Av.   \n",
      "2        John \"Da Man\"    Repici                 120 Jefferson St.   \n",
      "3              Stephen     Tyler  7452 Terrace \"At the Plaza\" road   \n",
      "4                  NaN  Blankman                               NaN   \n",
      "5  Joan \"Danger\", Anne       Jet               9th, at Terrace plc   \n",
      "\n",
      "          City State  Area Code  Income  Tax %  \n",
      "0    Riverside    NJ       8074   45000   0.20  \n",
      "1        Phila    PA       9119   18000   0.15  \n",
      "2    Riverside    NJ       8075  120000   0.25  \n",
      "3     SomeTown    SD      91234   90000   0.25  \n",
      "4     SomeTown    SD        298   30000   0.15  \n",
      "5  Desert City    CO        123   68000   0.20  \n"
     ]
    }
   ],
   "source": [
    "# create new column with a tax\n",
    "df_csv['Tax %'] = df_csv['Income'].apply(lambda x : 0.15 if 10000 < x < 40000 else 0.20 if 40000 < x < 80000 else 0.25)\n",
    "print(df_csv)"
   ]
  },
  {
   "cell_type": "code",
   "execution_count": 58,
   "id": "3ec1dfa1",
   "metadata": {},
   "outputs": [
    {
     "name": "stdout",
     "output_type": "stream",
     "text": [
      "                 First      Last                           Address  \\\n",
      "0                 John       Doe                 120 jefferson st.   \n",
      "1                 Jack  McGinnis                      220 hobo Av.   \n",
      "2        John \"Da Man\"    Repici                 120 Jefferson St.   \n",
      "3              Stephen     Tyler  7452 Terrace \"At the Plaza\" road   \n",
      "4                  NaN  Blankman                               NaN   \n",
      "5  Joan \"Danger\", Anne       Jet               9th, at Terrace plc   \n",
      "\n",
      "          City State  Area Code  Income  Tax %  Tax owed  Test col  \n",
      "0    Riverside    NJ       8074   45000   0.20    9000.0     False  \n",
      "1        Phila    PA       9119   18000   0.15    2700.0      True  \n",
      "2    Riverside    NJ       8075  120000   0.25   30000.0     False  \n",
      "3     SomeTown    SD      91234   90000   0.25   22500.0     False  \n",
      "4     SomeTown    SD        298   30000   0.15    4500.0      True  \n",
      "5  Desert City    CO        123   68000   0.20   13600.0     False  \n"
     ]
    }
   ],
   "source": [
    "# create new column after the tax\n",
    "df_csv['Tax owed'] = df_csv['Tax %'] * df_csv['Income']\n",
    "print(df_csv)"
   ]
  },
  {
   "cell_type": "markdown",
   "id": "872293ff",
   "metadata": {},
   "source": [
    "### Drop columns"
   ]
  },
  {
   "cell_type": "code",
   "execution_count": 52,
   "id": "b3ca6a8e",
   "metadata": {},
   "outputs": [
    {
     "data": {
      "text/html": [
       "<div>\n",
       "<style scoped>\n",
       "    .dataframe tbody tr th:only-of-type {\n",
       "        vertical-align: middle;\n",
       "    }\n",
       "\n",
       "    .dataframe tbody tr th {\n",
       "        vertical-align: top;\n",
       "    }\n",
       "\n",
       "    .dataframe thead th {\n",
       "        text-align: right;\n",
       "    }\n",
       "</style>\n",
       "<table border=\"1\" class=\"dataframe\">\n",
       "  <thead>\n",
       "    <tr style=\"text-align: right;\">\n",
       "      <th></th>\n",
       "      <th>Last</th>\n",
       "      <th>City</th>\n",
       "      <th>State</th>\n",
       "      <th>Income</th>\n",
       "      <th>Tax %</th>\n",
       "      <th>Tax owed</th>\n",
       "    </tr>\n",
       "  </thead>\n",
       "  <tbody>\n",
       "    <tr>\n",
       "      <th>0</th>\n",
       "      <td>Doe</td>\n",
       "      <td>Riverside</td>\n",
       "      <td>NJ</td>\n",
       "      <td>45000</td>\n",
       "      <td>0.20</td>\n",
       "      <td>9000.0</td>\n",
       "    </tr>\n",
       "    <tr>\n",
       "      <th>1</th>\n",
       "      <td>McGinnis</td>\n",
       "      <td>Phila</td>\n",
       "      <td>PA</td>\n",
       "      <td>18000</td>\n",
       "      <td>0.15</td>\n",
       "      <td>2700.0</td>\n",
       "    </tr>\n",
       "    <tr>\n",
       "      <th>2</th>\n",
       "      <td>Repici</td>\n",
       "      <td>Riverside</td>\n",
       "      <td>NJ</td>\n",
       "      <td>120000</td>\n",
       "      <td>0.25</td>\n",
       "      <td>30000.0</td>\n",
       "    </tr>\n",
       "    <tr>\n",
       "      <th>3</th>\n",
       "      <td>Tyler</td>\n",
       "      <td>SomeTown</td>\n",
       "      <td>SD</td>\n",
       "      <td>90000</td>\n",
       "      <td>0.25</td>\n",
       "      <td>22500.0</td>\n",
       "    </tr>\n",
       "    <tr>\n",
       "      <th>4</th>\n",
       "      <td>Blankman</td>\n",
       "      <td>SomeTown</td>\n",
       "      <td>SD</td>\n",
       "      <td>30000</td>\n",
       "      <td>0.15</td>\n",
       "      <td>4500.0</td>\n",
       "    </tr>\n",
       "    <tr>\n",
       "      <th>5</th>\n",
       "      <td>Jet</td>\n",
       "      <td>Desert City</td>\n",
       "      <td>CO</td>\n",
       "      <td>68000</td>\n",
       "      <td>0.20</td>\n",
       "      <td>13600.0</td>\n",
       "    </tr>\n",
       "  </tbody>\n",
       "</table>\n",
       "</div>"
      ],
      "text/plain": [
       "       Last         City State  Income  Tax %  Tax owed\n",
       "0       Doe    Riverside    NJ   45000   0.20    9000.0\n",
       "1  McGinnis        Phila    PA   18000   0.15    2700.0\n",
       "2    Repici    Riverside    NJ  120000   0.25   30000.0\n",
       "3     Tyler     SomeTown    SD   90000   0.25   22500.0\n",
       "4  Blankman     SomeTown    SD   30000   0.15    4500.0\n",
       "5       Jet  Desert City    CO   68000   0.20   13600.0"
      ]
     },
     "execution_count": 52,
     "metadata": {},
     "output_type": "execute_result"
    }
   ],
   "source": [
    "to_drop = ['Area Code', 'First', 'Address']\n",
    "df_csv.drop(columns=to_drop)"
   ]
  },
  {
   "cell_type": "code",
   "execution_count": 57,
   "id": "29074b57",
   "metadata": {},
   "outputs": [
    {
     "data": {
      "text/html": [
       "<div>\n",
       "<style scoped>\n",
       "    .dataframe tbody tr th:only-of-type {\n",
       "        vertical-align: middle;\n",
       "    }\n",
       "\n",
       "    .dataframe tbody tr th {\n",
       "        vertical-align: top;\n",
       "    }\n",
       "\n",
       "    .dataframe thead th {\n",
       "        text-align: right;\n",
       "    }\n",
       "</style>\n",
       "<table border=\"1\" class=\"dataframe\">\n",
       "  <thead>\n",
       "    <tr style=\"text-align: right;\">\n",
       "      <th></th>\n",
       "      <th>First</th>\n",
       "      <th>Last</th>\n",
       "      <th>Address</th>\n",
       "      <th>City</th>\n",
       "      <th>State</th>\n",
       "      <th>Area Code</th>\n",
       "      <th>Income</th>\n",
       "      <th>Tax %</th>\n",
       "      <th>Tax owed</th>\n",
       "      <th>Test col</th>\n",
       "    </tr>\n",
       "  </thead>\n",
       "  <tbody>\n",
       "    <tr>\n",
       "      <th>0</th>\n",
       "      <td>John</td>\n",
       "      <td>Doe</td>\n",
       "      <td>120 jefferson st.</td>\n",
       "      <td>Riverside</td>\n",
       "      <td>NJ</td>\n",
       "      <td>8074</td>\n",
       "      <td>45000</td>\n",
       "      <td>0.20</td>\n",
       "      <td>9000.0</td>\n",
       "      <td>False</td>\n",
       "    </tr>\n",
       "    <tr>\n",
       "      <th>1</th>\n",
       "      <td>Jack</td>\n",
       "      <td>McGinnis</td>\n",
       "      <td>220 hobo Av.</td>\n",
       "      <td>Phila</td>\n",
       "      <td>PA</td>\n",
       "      <td>9119</td>\n",
       "      <td>18000</td>\n",
       "      <td>0.15</td>\n",
       "      <td>2700.0</td>\n",
       "      <td>True</td>\n",
       "    </tr>\n",
       "    <tr>\n",
       "      <th>2</th>\n",
       "      <td>John \"Da Man\"</td>\n",
       "      <td>Repici</td>\n",
       "      <td>120 Jefferson St.</td>\n",
       "      <td>Riverside</td>\n",
       "      <td>NJ</td>\n",
       "      <td>8075</td>\n",
       "      <td>120000</td>\n",
       "      <td>0.25</td>\n",
       "      <td>30000.0</td>\n",
       "      <td>False</td>\n",
       "    </tr>\n",
       "    <tr>\n",
       "      <th>3</th>\n",
       "      <td>Stephen</td>\n",
       "      <td>Tyler</td>\n",
       "      <td>7452 Terrace \"At the Plaza\" road</td>\n",
       "      <td>SomeTown</td>\n",
       "      <td>SD</td>\n",
       "      <td>91234</td>\n",
       "      <td>90000</td>\n",
       "      <td>0.25</td>\n",
       "      <td>22500.0</td>\n",
       "      <td>False</td>\n",
       "    </tr>\n",
       "    <tr>\n",
       "      <th>4</th>\n",
       "      <td>NaN</td>\n",
       "      <td>Blankman</td>\n",
       "      <td>NaN</td>\n",
       "      <td>SomeTown</td>\n",
       "      <td>SD</td>\n",
       "      <td>298</td>\n",
       "      <td>30000</td>\n",
       "      <td>0.15</td>\n",
       "      <td>4500.0</td>\n",
       "      <td>True</td>\n",
       "    </tr>\n",
       "    <tr>\n",
       "      <th>5</th>\n",
       "      <td>Joan \"Danger\", Anne</td>\n",
       "      <td>Jet</td>\n",
       "      <td>9th, at Terrace plc</td>\n",
       "      <td>Desert City</td>\n",
       "      <td>CO</td>\n",
       "      <td>123</td>\n",
       "      <td>68000</td>\n",
       "      <td>0.20</td>\n",
       "      <td>13600.0</td>\n",
       "      <td>False</td>\n",
       "    </tr>\n",
       "  </tbody>\n",
       "</table>\n",
       "</div>"
      ],
      "text/plain": [
       "                 First      Last                           Address  \\\n",
       "0                 John       Doe                 120 jefferson st.   \n",
       "1                 Jack  McGinnis                      220 hobo Av.   \n",
       "2        John \"Da Man\"    Repici                 120 Jefferson St.   \n",
       "3              Stephen     Tyler  7452 Terrace \"At the Plaza\" road   \n",
       "4                  NaN  Blankman                               NaN   \n",
       "5  Joan \"Danger\", Anne       Jet               9th, at Terrace plc   \n",
       "\n",
       "          City State  Area Code  Income  Tax %  Tax owed  Test col  \n",
       "0    Riverside    NJ       8074   45000   0.20    9000.0     False  \n",
       "1        Phila    PA       9119   18000   0.15    2700.0      True  \n",
       "2    Riverside    NJ       8075  120000   0.25   30000.0     False  \n",
       "3     SomeTown    SD      91234   90000   0.25   22500.0     False  \n",
       "4     SomeTown    SD        298   30000   0.15    4500.0      True  \n",
       "5  Desert City    CO        123   68000   0.20   13600.0     False  "
      ]
     },
     "execution_count": 57,
     "metadata": {},
     "output_type": "execute_result"
    }
   ],
   "source": [
    "df_csv['Test col'] = False\n",
    "df_csv.loc[df_csv['Income'] < 40000, 'Test col'] = True\n",
    "df_csv"
   ]
  },
  {
   "cell_type": "markdown",
   "id": "7074cd37",
   "metadata": {},
   "source": [
    "### goup & sort"
   ]
  },
  {
   "cell_type": "code",
   "execution_count": 63,
   "id": "ed452711",
   "metadata": {},
   "outputs": [
    {
     "name": "stdout",
     "output_type": "stream",
     "text": [
      "          Area Code   Income  Tax %  Tax owed\n",
      "Test col                                     \n",
      "True         4708.5  24000.0  0.150    3600.0\n",
      "False       26876.5  80750.0  0.225   18775.0\n"
     ]
    }
   ],
   "source": [
    "print(df_csv.groupby(['Test col']).mean().sort_values('Income'))"
   ]
  },
  {
   "cell_type": "markdown",
   "id": "5452bcd3",
   "metadata": {},
   "source": [
    "# Cleaning data with pandas"
   ]
  },
  {
   "cell_type": "code",
   "execution_count": null,
   "id": "86f364f6",
   "metadata": {},
   "outputs": [],
   "source": []
  }
 ],
 "metadata": {
  "kernelspec": {
   "display_name": "Python 3 (ipykernel)",
   "language": "python",
   "name": "python3"
  },
  "language_info": {
   "codemirror_mode": {
    "name": "ipython",
    "version": 3
   },
   "file_extension": ".py",
   "mimetype": "text/x-python",
   "name": "python",
   "nbconvert_exporter": "python",
   "pygments_lexer": "ipython3",
   "version": "3.9.7"
  }
 },
 "nbformat": 4,
 "nbformat_minor": 5
}
