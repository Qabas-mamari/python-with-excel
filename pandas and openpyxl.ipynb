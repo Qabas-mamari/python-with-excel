{
 "cells": [
  {
   "cell_type": "code",
   "execution_count": 2,
   "id": "ae5cd2c3",
   "metadata": {},
   "outputs": [],
   "source": [
    "import pandas as pd\n",
    "from openpyxl import load_workbook\n",
    "from openpyxl.styles import Font\n",
    "from openpyxl.utils.dataframe import dataframe_to_rows"
   ]
  },
  {
   "cell_type": "markdown",
   "id": "1748caf2",
   "metadata": {},
   "source": [
    "# Managing multiple sheets"
   ]
  },
  {
   "cell_type": "code",
   "execution_count": 2,
   "id": "7386cfa3",
   "metadata": {},
   "outputs": [],
   "source": [
    "#read excel files and sheets \n",
    "df_1 = pd.read_excel('input_files/shifts.xlsx', sheet_name = 'Sheet')\n",
    "df_2 = pd.read_excel('input_files/shifts.xlsx', sheet_name = 'Sheet1') \n",
    "df_3 = pd.read_excel('input_files/shift_3.xlsx')"
   ]
  },
  {
   "cell_type": "code",
   "execution_count": 3,
   "id": "c0ee9eb4",
   "metadata": {},
   "outputs": [
    {
     "name": "stdout",
     "output_type": "stream",
     "text": [
      "    Shift Region Sales Rep  Product  Cost per  Units Sold\n",
      "0       1  South    Meggan    Paper        15         163\n",
      "1       1  South    Charis  Stapler        25         108\n",
      "2       1  South    Shayne   Pencil         5         118\n",
      "3       1  North   Krystin      Pen        10          37\n",
      "4       1  South       Leo    Paper        15         131\n",
      "..    ...    ...       ...      ...       ...         ...\n",
      "94      3  South     Willa      Pen        10          42\n",
      "95      3   West    Shayne    Paper        15         168\n",
      "96      3   East    Adrian   Binder        30         132\n",
      "97      3   East     Willa    Paper        15         111\n",
      "98      3   East     Diann   Folder        17         151\n",
      "\n",
      "[298 rows x 6 columns]\n"
     ]
    }
   ],
   "source": [
    "#concatenate all files\n",
    "df_all = pd.concat([df_1, df_2, df_3], sort=False)\n",
    "print(df_all)"
   ]
  },
  {
   "cell_type": "code",
   "execution_count": 4,
   "id": "f4ec4a1c",
   "metadata": {},
   "outputs": [
    {
     "name": "stdout",
     "output_type": "stream",
     "text": [
      "    Shift Region Sales Rep Product  Cost per  Units Sold\n",
      "50      1  South  Shirlene  Binder        30         176\n",
      "50      2  North   Jenifer  Pencil         5          62\n",
      "50      3   West    Conrad  Folder        17          51\n"
     ]
    }
   ],
   "source": [
    "print(df_all.loc[50])"
   ]
  },
  {
   "cell_type": "code",
   "execution_count": 5,
   "id": "d401d6aa",
   "metadata": {},
   "outputs": [
    {
     "name": "stdout",
     "output_type": "stream",
     "text": [
      "Shift\n",
      "1    114.767677\n",
      "2    112.460000\n",
      "3    109.343434\n",
      "Name: Units Sold, dtype: float64\n"
     ]
    }
   ],
   "source": [
    "print(df_all.groupby(['Shift']).mean()['Units Sold'])"
   ]
  },
  {
   "cell_type": "code",
   "execution_count": 6,
   "id": "2c18cfe5",
   "metadata": {},
   "outputs": [],
   "source": [
    "# save in one file\n",
    "to_excel = df_all.to_excel('output_files/all_shifts.xlsx' , index=None)"
   ]
  },
  {
   "cell_type": "code",
   "execution_count": 7,
   "id": "a2c44e55",
   "metadata": {},
   "outputs": [],
   "source": [
    "# open the file with openpyxl\n",
    "wb = load_workbook('output_files/all_shifts.xlsx')\n",
    "ws = wb.active"
   ]
  },
  {
   "cell_type": "code",
   "execution_count": 8,
   "id": "e0dba3cc",
   "metadata": {},
   "outputs": [],
   "source": [
    "total_col = ws['G1']\n",
    "total_col.font = Font(bold=True)\n",
    "total_col.value = 'Total'"
   ]
  },
  {
   "cell_type": "code",
   "execution_count": 10,
   "id": "936bf306",
   "metadata": {},
   "outputs": [],
   "source": [
    "e_col, f_col = ['E', 'F']\n",
    "for row in range (2, 300):\n",
    "    result_cell = 'G{}'.format(row)\n",
    "    e_value = ws[e_col + str(row)].value\n",
    "    f_value = ws[f_col + str(row)].value\n",
    "    ws[result_cell] = e_value * f_value"
   ]
  },
  {
   "cell_type": "code",
   "execution_count": 11,
   "id": "8d73ace7",
   "metadata": {},
   "outputs": [],
   "source": [
    "wb.save('output_files/totaled.xlsx')"
   ]
  },
  {
   "cell_type": "markdown",
   "id": "76f215c9",
   "metadata": {},
   "source": [
    "# Converting data"
   ]
  },
  {
   "cell_type": "code",
   "execution_count": null,
   "id": "434c6244",
   "metadata": {},
   "outputs": [],
   "source": []
  }
 ],
 "metadata": {
  "kernelspec": {
   "display_name": "Python 3 (ipykernel)",
   "language": "python",
   "name": "python3"
  },
  "language_info": {
   "codemirror_mode": {
    "name": "ipython",
    "version": 3
   },
   "file_extension": ".py",
   "mimetype": "text/x-python",
   "name": "python",
   "nbconvert_exporter": "python",
   "pygments_lexer": "ipython3",
   "version": "3.9.7"
  }
 },
 "nbformat": 4,
 "nbformat_minor": 5
}
